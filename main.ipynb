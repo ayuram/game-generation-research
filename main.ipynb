{
 "cells": [
  {
   "cell_type": "markdown",
   "metadata": {},
   "source": [
    "# Game Generation Research Notebook\n",
    "\n",
    "The purpose of this notebook is to provide an overview of my research into game theory, specifically in the application of LLMs for dynamically generating games. This research project will focus on sequential games, though other games may be explored later."
   ]
  },
  {
   "cell_type": "code",
   "execution_count": 20,
   "metadata": {
    "metadata": {}
   },
   "outputs": [],
   "source": [
    "import requests\n",
    "from typing import Tuple\n",
    "import json\n",
    "\n",
    "def get_service() -> Tuple[str, str]:\n",
    "        \"\"\"\n",
    "        Loads the credentials for the service.\n",
    "\n",
    "        Returns:\n",
    "            token: token to use for authentication.\n",
    "            svc_url: url of the service instance.\n",
    "        \"\"\"\n",
    "        credentials_path = \"./credentials.json\"\n",
    "        try:\n",
    "            with open(credentials_path, \"r\") as file:\n",
    "                svc_key = json.loads(file.read())\n",
    "        except Exception as error:\n",
    "            print(f\"Could not load the credentials: {error}\")\n",
    "\n",
    "        return requests.post(\n",
    "            f\"{svc_key['uaa']['url']}/oauth/token\",\n",
    "            auth=(svc_key[\"uaa\"][\"clientid\"], svc_key[\"uaa\"][\"clientsecret\"]),\n",
    "            params={\"grant_type\": \"client_credentials\"}\n",
    "        ).json()[\"access_token\"], svc_key[\"url\"]\n",
    "\n",
    "def prompt_llm(prior, prompt, contexts=[], temp=0.7) -> str:\n",
    "        \"\"\"\n",
    "        Get the completions from the LLM.\n",
    "        \"\"\"\n",
    "        if prompt == \"\": return \"\"\n",
    "        token, svc_url = get_service()\n",
    "        edited_prompt = prompt\n",
    "        messages = [{'role': 'assistant', 'content': context} for context in contexts]\n",
    "        messages.append({\"role\": \"user\", \"content\": edited_prompt})\n",
    "        messages.insert(0, {\"role\": \"system\", \"content\": prior})\n",
    "        response = requests.post(\n",
    "            f\"{svc_url}/api/v1/completions\",\n",
    "            headers={\n",
    "                \"Authorization\": f\"Bearer {token}\",\n",
    "                \"Content-Type\": \"application/json\"\n",
    "            },\n",
    "            \n",
    "            json={\n",
    "                \"deployment_id\": \"gpt-4-32k\",\n",
    "                \"messages\": messages,\n",
    "                \"max_tokens\": 500,\n",
    "                \"temperature\": temp,\n",
    "                \"frequency_penalty\": 0,\n",
    "                \"presence_penalty\": 0,\n",
    "                \"top_p\": 0.95,\n",
    "                \"stop\": \"null\"\n",
    "            }\n",
    "        )\n",
    "\n",
    "        if response.status_code != 200:\n",
    "            print(f\"Error: {response.text}\")\n",
    "            return False, \"\"\n",
    "        return str(response.json()[\"choices\"][0][\"message\"][\"content\"])"
   ]
  },
  {
   "cell_type": "markdown",
   "metadata": {},
   "source": [
    "## Dynamic Code Generation & Execution\n",
    "\n",
    "The following is a demonstration of how to dynamically execute code in Python. This will be useful for generating sequential games."
   ]
  },
  {
   "cell_type": "code",
   "execution_count": 21,
   "metadata": {
    "metadata": {}
   },
   "outputs": [],
   "source": [
    "def extract_code(response):\n",
    "    code = response.split(\"```\")\n",
    "    if len(code) > 1:\n",
    "        return code[1][len(\"python\"):]\n",
    "    return response\n",
    "\n",
    "def generate_code(prompt, contexts=[], temp=0.2):\n",
    "    response = prompt_llm(\n",
    "        prior=\"You are a coding assistant. You are helping a user write a Python program. Only respond with relevant code; no explanation or comments.\",\n",
    "        prompt=prompt,\n",
    "        contexts=contexts,\n",
    "        temp=temp\n",
    "    )\n",
    "    return extract_code(response)"
   ]
  },
  {
   "cell_type": "code",
   "execution_count": 22,
   "metadata": {
    "metadata": {}
   },
   "outputs": [
    {
     "name": "stdout",
     "output_type": "stream",
     "text": [
      "def is_prime(n):\n",
      "    if n <= 1:\n",
      "        return False\n",
      "    if n <= 3:\n",
      "        return True\n",
      "    if n % 2 == 0 or n % 3 == 0:\n",
      "        return False\n",
      "    i = 5\n",
      "    while i * i <= n:\n",
      "        if n % i == 0 or n % (i + 2) == 0:\n",
      "            return False\n",
      "        i += 6\n",
      "    return True\n",
      "\n",
      "def twin_primes(n):\n",
      "    primes = []\n",
      "    i = 2\n",
      "    while len(primes) < n:\n",
      "        if is_prime(i) and is_prime(i + 2):\n",
      "            primes.append((i, i + 2))\n",
      "        i += 1\n",
      "    return primes\n",
      "\n",
      "for pair in twin_primes(10):\n",
      "    print(pair)\n"
     ]
    }
   ],
   "source": [
    "code = generate_code(\"Write code for a Python program that prints the first 10 twin prime numbers.\")\n",
    "print(code)"
   ]
  },
  {
   "cell_type": "code",
   "execution_count": 23,
   "metadata": {
    "metadata": {}
   },
   "outputs": [
    {
     "name": "stdout",
     "output_type": "stream",
     "text": [
      "(3, 5)\n",
      "(5, 7)\n",
      "(11, 13)\n",
      "(17, 19)\n",
      "(29, 31)\n",
      "(41, 43)\n",
      "(59, 61)\n",
      "(71, 73)\n",
      "(101, 103)\n",
      "(107, 109)\n"
     ]
    }
   ],
   "source": [
    "exec(code)"
   ]
  },
  {
   "cell_type": "markdown",
   "metadata": {},
   "source": [
    "## Sequential Games\n",
    "\n",
    "Sequential games are a type of game where players take turns to make decisions. The decisions made by each player can be based on the decisions made by the previous players. Sequential games are often represented as trees, where the nodes represent decision points and the edges represent the possible decisions that can be made.\n",
    "\n",
    "We will be using this type of game as a structure for the LLM to generate games."
   ]
  },
  {
   "cell_type": "markdown",
   "metadata": {},
   "source": [
    "### Generating Features\n",
    "\n",
    "The first step in generating a sequential game is to generate the features that will be used to represent the game. These features will generated by the LLM to generate the game.\n",
    "\n",
    "\n",
    "### Model Assumptions\n",
    "\n",
    "- N players\n",
    "- Objects are given to the model"
   ]
  },
  {
   "cell_type": "code",
   "execution_count": 24,
   "metadata": {
    "metadata": {}
   },
   "outputs": [],
   "source": [
    "def generate_game(prompt):\n",
    "    prior = '''\n",
    "    Your job will be to look for a fun way to combine real-world objects to make a sequential game (game theory). Your response should be formatted as:\n",
    "\n",
    "    Representative Emoji: eg. 🎲\n",
    "\n",
    "    Game Title: eg. Dice Roll\n",
    "\n",
    "    Set-Up Instructions: eg.\n",
    "    1. Place the dice in the center of the table.\n",
    "    2. Each player takes turns rolling the dice.\n",
    "\n",
    "    Turn-Instructions: eg.\n",
    "    1. Player rolls the dice.\n",
    "    2. Player reads the number at the top of the dice.\n",
    "\n",
    "    Winning/Losing Condition: eg.\n",
    "    1. The player who rolls the highest number wins.\n",
    "    2. The player who rolls the lowest number loses.\n",
    "\n",
    "    Ignored-Objects: eg.\n",
    "    1. Coin\n",
    "    2. Chess Board\n",
    "\n",
    "    -------------------\n",
    "\n",
    "    Your response should have NO ambiguity. You also do not need to use all objects (IGNORE IRRELEVANT SURFACES AND FURNITURE).\n",
    "    '''\n",
    "    response = prompt_llm(\n",
    "        prior=prior,\n",
    "        prompt=prompt,\n",
    "    )\n",
    "    return response"
   ]
  },
  {
   "cell_type": "markdown",
   "metadata": {},
   "source": [
    "### Eliminating Irrelevant Features\n",
    "\n",
    "For now, we will simply prompt the LLM to ignore objects that it thinks do not matter. In the future this can be done by a classifier."
   ]
  },
  {
   "cell_type": "code",
   "execution_count": 25,
   "metadata": {
    "metadata": {}
   },
   "outputs": [
    {
     "name": "stdout",
     "output_type": "stream",
     "text": [
      "Representative Emoji: 🥚\n",
      "\n",
      "Game Title: Egg Transfer Race\n",
      "\n",
      "Set-Up Instructions: \n",
      "1. Place the 12 eggs in one basket.\n",
      "2. Put the other two baskets at a distance of 5-10 steps (depending on space) on either side of the basket with the eggs.\n",
      "3. Place the laptop and keyboard at a convenient viewing point.\n",
      "\n",
      "Turn-Instructions: \n",
      "1. The first player starts at the basket with the eggs.\n",
      "2. The player must pick up an egg from the basket, carefully wrap it in the charging cable, and then carry it to one of the other baskets.\n",
      "3. The player must then return to the original basket and repeat the process until all eggs have been moved.\n",
      "4. This process is timed using the stopwatch function on the laptop.\n",
      "5. The next player then repeats the process.\n",
      "\n",
      "Winning/Losing Condition: \n",
      "1. The player who transfers all the eggs in the shortest time is the winner.\n",
      "2. The player who takes the longest time loses.\n",
      "3. If a player drops and breaks an egg, they automatically lose.\n",
      "\n",
      "Ignored-Objects: \n",
      "1. Keyboard\n"
     ]
    }
   ],
   "source": [
    "N = 10\n",
    "objects = [\"charging cable\", \"eggs\", \"laptop\", \"basket\", \"keyboard\"]\n",
    "quantities = [1, 12, 1, 3, 1]\n",
    "prompt = ', '.join([f\"{quant} {obj}s\" if quant > 1 else obj for obj, quant in zip(objects, quantities)]) + f\" {N} players\"\n",
    "game_response = generate_game(prompt)\n",
    "print(game_response)"
   ]
  },
  {
   "cell_type": "code",
   "execution_count": 26,
   "metadata": {
    "metadata": {}
   },
   "outputs": [],
   "source": [
    "def numbered_list_to_array(text: str):\n",
    "    return [line[line.index('.') + 2:] for line in text.split('\\n') if line.strip() != \"\"]"
   ]
  },
  {
   "cell_type": "code",
   "execution_count": 27,
   "metadata": {
    "metadata": {}
   },
   "outputs": [
    {
     "data": {
      "text/plain": [
       "{'Representative Emoji': '🥚',\n",
       " 'Game Title': 'Egg Transfer Race',\n",
       " 'Set-Up Instructions': ['Place the 12 eggs in one basket.',\n",
       "  'Put the other two baskets at a distance of 5-10 steps (depending on space) on either side of the basket with the eggs.',\n",
       "  'Place the laptop and keyboard at a convenient viewing point.'],\n",
       " 'Turn-Instructions': ['The first player starts at the basket with the eggs.',\n",
       "  'The player must pick up an egg from the basket, carefully wrap it in the charging cable, and then carry it to one of the other baskets.',\n",
       "  'The player must then return to the original basket and repeat the process until all eggs have been moved.',\n",
       "  'This process is timed using the stopwatch function on the laptop.',\n",
       "  'The next player then repeats the process.'],\n",
       " 'Winning/Losing Condition': ['The player who transfers all the eggs in the shortest time is the winner.',\n",
       "  'The player who takes the longest time loses.',\n",
       "  'If a player drops and breaks an egg, they automatically lose.'],\n",
       " 'Ignored-Objects': ['Keyboard']}"
      ]
     },
     "execution_count": 27,
     "metadata": {},
     "output_type": "execute_result"
    }
   ],
   "source": [
    "import regex as re\n",
    "structured_response = [line.split(':') for line in game_response.split(\"\\n\\n\")]\n",
    "# turn the response into a dictionary\n",
    "meta_game = {\n",
    "    key: numbered_list_to_array(value) if re.match(r'^\\s*\\d+\\.\\s+.+', value) else value.strip() \n",
    "    for key, value in structured_response\n",
    "}\n",
    "meta_game"
   ]
  },
  {
   "cell_type": "code",
   "execution_count": 28,
   "metadata": {
    "metadata": {}
   },
   "outputs": [
    {
     "data": {
      "text/plain": [
       "['charging cable', 'eggs', 'laptop', 'basket']"
      ]
     },
     "execution_count": 28,
     "metadata": {},
     "output_type": "execute_result"
    }
   ],
   "source": [
    "formatted_ignored_objects = [obj.lower() for obj in meta_game.get(\"Ignored-Objects\", [])]\n",
    "used_objects = [obj for obj in objects if obj not in formatted_ignored_objects]\n",
    "used_objects"
   ]
  },
  {
   "cell_type": "code",
   "execution_count": 29,
   "metadata": {
    "metadata": {}
   },
   "outputs": [
    {
     "name": "stdout",
     "output_type": "stream",
     "text": [
      "1. Pick up egg, Payoff +1\n",
      "2. Wrap egg in charging cable, Payoff +1\n",
      "3. Carry egg to another basket, Payoff +1\n",
      "4. Return to original basket, Payoff +1\n",
      "5. Drop and break egg, Payoff -5\n",
      "6. Use laptop to time, Payoff +1\n",
      "7. Finish transferring all eggs, Payoff +5\n",
      "8. Take longest time, Payoff -3\n"
     ]
    }
   ],
   "source": [
    "actions_payoffs_resp = prompt_llm(\n",
    "    \"You are building a sequential game in game theory. Answer with just the actions that a player can do on their turn and their payoffs in a numbered list. Answer ONLY with the numbered list in the form: 1. Action, Payoff (eg. +3)\",\n",
    "    f'''Here are the objects in the game: {used_objects}. MAKE SURE YOUR ACTIONS ARE MUTUALLY INDEPENDENT''',\n",
    "    contexts=[game_response],\n",
    "    temp=0.3\n",
    ")\n",
    "\n",
    "print(actions_payoffs_resp)"
   ]
  },
  {
   "cell_type": "code",
   "execution_count": 30,
   "metadata": {
    "metadata": {}
   },
   "outputs": [],
   "source": [
    "actions_payoffs = [action_payoff.split(\", \") for action_payoff in numbered_list_to_array(actions_payoffs_resp)]\n",
    "actions = [action for action, _ in actions_payoffs]"
   ]
  },
  {
   "cell_type": "code",
   "execution_count": 31,
   "metadata": {
    "metadata": {}
   },
   "outputs": [
    {
     "name": "stdout",
     "output_type": "stream",
     "text": [
      "\n",
      "class Game:\n",
      "    def __init__(self):\n",
      "        self.players = [0, 0]\n",
      "        self.actions = {\n",
      "            'Pick up egg': 1,\n",
      "            'Wrap egg in charging cable': 1,\n",
      "            'Carry egg to another basket': 1,\n",
      "            'Return to original basket': 1,\n",
      "            'Drop and break egg': -5,\n",
      "            'Use laptop to time': 1,\n",
      "            'Finish transferring all eggs': 5,\n",
      "            'Take longest time': -3\n",
      "        }\n",
      "        self.current_player = 0\n",
      "\n",
      "    def step(self, action):\n",
      "        self.players[self.current_player] += self.actions[action]\n",
      "        self.current_player = 1 - self.current_player\n",
      "\n",
      "    def get_winner(self):\n",
      "        return self.players.index(max(self.players))\n",
      "\n"
     ]
    }
   ],
   "source": [
    "game_code = generate_code(\n",
    "    f\"Write a Python script that models the state of the game (with a class called 'Game') with 2 players and has a function called 'step' that takes in an action from {actions} and steps the state of the game; and a function called 'get_winner' that returns the winner of the game (integer).\",\n",
    "    contexts=[game_response, f\"Actions and Payoffs:\\n{actions_payoffs_resp}\"],\n",
    ")\n",
    "\n",
    "\n",
    "print(game_code)"
   ]
  },
  {
   "cell_type": "code",
   "execution_count": 32,
   "metadata": {
    "metadata": {}
   },
   "outputs": [
    {
     "data": {
      "text/plain": [
       "['Use laptop to time',\n",
       " 'Take longest time',\n",
       " 'Take longest time',\n",
       " 'Carry egg to another basket',\n",
       " 'Pick up egg',\n",
       " 'Carry egg to another basket',\n",
       " 'Return to original basket',\n",
       " 'Finish transferring all eggs',\n",
       " 'Pick up egg',\n",
       " 'Take longest time']"
      ]
     },
     "execution_count": 32,
     "metadata": {},
     "output_type": "execute_result"
    }
   ],
   "source": [
    "import random\n",
    "\n",
    "game_actions = [random.choice(actions) for _ in range(10)]\n",
    "game_actions"
   ]
  },
  {
   "cell_type": "code",
   "execution_count": 33,
   "metadata": {
    "metadata": {}
   },
   "outputs": [
    {
     "name": "stdout",
     "output_type": "stream",
     "text": [
      "0\n",
      "0\n",
      "0\n",
      "0\n",
      "0\n",
      "0\n",
      "0\n",
      "1\n",
      "1\n",
      "0\n"
     ]
    },
    {
     "data": {
      "text/plain": [
       "0"
      ]
     },
     "execution_count": 33,
     "metadata": {},
     "output_type": "execute_result"
    }
   ],
   "source": [
    "exec(game_code)\n",
    "\n",
    "game = Game()\n",
    "for action in game_actions:\n",
    "    game.step(action)\n",
    "    print(game.get_winner())\n",
    "game.get_winner()"
   ]
  },
  {
   "cell_type": "markdown",
   "metadata": {},
   "source": [
    "## Game Generation\n",
    "\n",
    "With all the pieces in place, we can now make a function to generate a game given a set of objects."
   ]
  },
  {
   "cell_type": "code",
   "execution_count": 34,
   "metadata": {
    "metadata": {}
   },
   "outputs": [],
   "source": [
    "def generate_game_function(objects: list[str], quantities: list[int]) -> Tuple[str, str]:\n",
    "    '''\n",
    "    @param objects: list of objects to be used in the game\n",
    "    @return: string representing the python function to run the game, string representing the game response\n",
    "    '''\n",
    "    if len(objects) != len(quantities):\n",
    "        raise ValueError(\"The number of objects and quantities must be the same\")\n",
    "    prompt = ', '.join([f\"{quant} {obj}s\" if quant > 1 else obj for obj, quant in zip(objects, quantities)])\n",
    "    game_response = generate_game(prompt)\n",
    "    print(game_response)\n",
    "    structured_response = [line.split(':') for line in game_response.split(\"\\n\\n\")]\n",
    "    # turn the response into a dictionary\n",
    "    meta_game = {\n",
    "        key: numbered_list_to_array(value) if re.match(r'^\\s*\\d+\\.\\s+.+', value) else value.strip() \n",
    "        for key, value in structured_response\n",
    "    }\n",
    "    formatted_ignored_objects = [obj.lower() for obj in meta_game.get(\"Ignored-Objects\", [])]\n",
    "    used_objects = [obj for obj in objects if obj not in formatted_ignored_objects]\n",
    "    actions_payoffs_resp = prompt_llm(\n",
    "        \"You are building a sequential game in game theory. Answer with just the actions that a player can do on their turn and their payoffs in a numbered list. Answer ONLY with the numbered list in the form: 1. Action, Payoff (eg. +3)\",\n",
    "        f'''Here are the objects in the game: {used_objects}. MAKE SURE YOUR ACTIONS ARE MUTUALLY INDEPENDENT''',\n",
    "        contexts=[game_response],\n",
    "        temp=0.3\n",
    "    )\n",
    "    actions_payoffs = [action_payoff.split(\", \") for action_payoff in numbered_list_to_array(actions_payoffs_resp)]\n",
    "    actions = [action for action, _ in actions_payoffs]\n",
    "    game_code = generate_code(\n",
    "        f\"Write a Python function that takes as input an array of action strings and number of players and returns the winner.\",\n",
    "        contexts=[game_response, f\"Actions and Payoffs:\\n{actions_payoffs_resp}\"],\n",
    "    )\n",
    "    return game_code, game_response"
   ]
  },
  {
   "cell_type": "markdown",
   "metadata": {},
   "source": [
    "## Reinforcement Learning\n",
    "\n",
    "Now that the game is generated. We can use reinforcement methods to make the game more interesting. This can be done by training a model to play the game and then using the model to generate new games."
   ]
  },
  {
   "cell_type": "code",
   "execution_count": 36,
   "metadata": {
    "metadata": {}
   },
   "outputs": [],
   "source": [
    "actions_probs = prompt_llm(\n",
    "    prior=game_response,\n",
    "    prompt=\"Give me a list of actions and the probability of their completion, format ur answer like [(action, probability[0-1])]\"\n",
    ")"
   ]
  }
 ],
 "metadata": {
  "kernelspec": {
   "display_name": "base",
   "language": "python",
   "name": "python3"
  },
  "language_info": {
   "codemirror_mode": {
    "name": "ipython",
    "version": 3
   },
   "file_extension": ".py",
   "mimetype": "text/x-python",
   "name": "python",
   "nbconvert_exporter": "python",
   "pygments_lexer": "ipython3",
   "version": "3.9.12"
  }
 },
 "nbformat": 4,
 "nbformat_minor": 2
}
