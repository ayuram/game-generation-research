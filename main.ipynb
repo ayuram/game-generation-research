{
 "cells": [
  {
   "cell_type": "markdown",
   "metadata": {},
   "source": [
    "# Game Generation Research Notebook\n",
    "\n",
    "The purpose of this notebook is to provide an overview of my research into game theory, specifically in the application of LLMs for dynamically generating games. This research project will focus on sequential games, though other games may be explored later."
   ]
  },
  {
   "cell_type": "code",
   "execution_count": 1,
   "metadata": {},
   "outputs": [],
   "source": [
    "import requests\n",
    "from typing import Tuple\n",
    "import json\n",
    "\n",
    "def get_service() -> Tuple[str, str]:\n",
    "        \"\"\"\n",
    "        Loads the credentials for the service.\n",
    "\n",
    "        Returns:\n",
    "            token: token to use for authentication.\n",
    "            svc_url: url of the service instance.\n",
    "        \"\"\"\n",
    "        credentials_path = \"./credentials.json\"\n",
    "        try:\n",
    "            with open(credentials_path, \"r\") as file:\n",
    "                svc_key = json.loads(file.read())\n",
    "        except Exception as error:\n",
    "            print(f\"Could not load the credentials: {error}\")\n",
    "\n",
    "        return requests.post(\n",
    "            f\"{svc_key['uaa']['url']}/oauth/token\",\n",
    "            auth=(svc_key[\"uaa\"][\"clientid\"], svc_key[\"uaa\"][\"clientsecret\"]),\n",
    "            params={\"grant_type\": \"client_credentials\"}\n",
    "        ).json()[\"access_token\"], svc_key[\"url\"]\n",
    "\n",
    "def prompt_llm(prior, prompt, contexts=[], temp=0.7) -> str:\n",
    "        \"\"\"\n",
    "        Get the completions from the LLM.\n",
    "        \"\"\"\n",
    "        if prompt == \"\": return \"\"\n",
    "        token, svc_url = get_service()\n",
    "        edited_prompt = prompt\n",
    "        messages = [{'role': 'assistant', 'content': context} for context in contexts]\n",
    "        messages.append({\"role\": \"user\", \"content\": edited_prompt})\n",
    "        messages.insert(0, {\"role\": \"system\", \"content\": prior})\n",
    "        response = requests.post(\n",
    "            f\"{svc_url}/api/v1/completions\",\n",
    "            headers={\n",
    "                \"Authorization\": f\"Bearer {token}\",\n",
    "                \"Content-Type\": \"application/json\"\n",
    "            },\n",
    "            \n",
    "            json={\n",
    "                \"deployment_id\": \"gpt-4-32k\",\n",
    "                \"messages\": messages,\n",
    "                \"max_tokens\": 500,\n",
    "                \"temperature\": temp,\n",
    "                \"frequency_penalty\": 0,\n",
    "                \"presence_penalty\": 0,\n",
    "                \"top_p\": 0.95,\n",
    "                \"stop\": \"null\"\n",
    "            }\n",
    "        )\n",
    "\n",
    "        if response.status_code != 200:\n",
    "            print(f\"Error: {response.text}\")\n",
    "            return False, \"\"\n",
    "        return str(response.json()[\"choices\"][0][\"message\"][\"content\"])"
   ]
  },
  {
   "cell_type": "markdown",
   "metadata": {},
   "source": [
    "## Dynamic Code Generation & Execution\n",
    "\n",
    "The following is a demonstration of how to dynamically execute code in Python. This will be useful for generating sequential games."
   ]
  },
  {
   "cell_type": "code",
   "execution_count": 2,
   "metadata": {},
   "outputs": [],
   "source": [
    "def extract_code(response):\n",
    "    code = response.split(\"```\")\n",
    "    if len(code) > 1:\n",
    "        return code[1][len(\"python\"):]\n",
    "    return response\n",
    "\n",
    "def generate_code(prompt, contexts=[], temp=0.2):\n",
    "    response = prompt_llm(\n",
    "        prior=\"You are a coding assistant. You are helping a user write a Python program. Only respond with relevant code; no explanation or comments.\",\n",
    "        prompt=prompt,\n",
    "        contexts=contexts,\n",
    "        temp=temp\n",
    "    )\n",
    "    return extract_code(response)"
   ]
  },
  {
   "cell_type": "code",
   "execution_count": 3,
   "metadata": {},
   "outputs": [
    {
     "name": "stdout",
     "output_type": "stream",
     "text": [
      "def twin_primes(n):\n",
      "    primes = []\n",
      "    i = 2\n",
      "    while len(primes) < n:\n",
      "        if all(i % p != 0 for p in primes):\n",
      "            if primes and i - primes[-1] == 2:\n",
      "                print((primes[-1], i))\n",
      "            primes.append(i)\n",
      "        i += 1\n",
      "\n",
      "twin_primes(10)\n"
     ]
    }
   ],
   "source": [
    "code = generate_code(\"Write code for a Python program that prints the first 10 twin prime numbers.\")\n",
    "print(code)"
   ]
  },
  {
   "cell_type": "code",
   "execution_count": 4,
   "metadata": {},
   "outputs": [
    {
     "name": "stdout",
     "output_type": "stream",
     "text": [
      "(3, 5)\n",
      "(5, 7)\n",
      "(11, 13)\n",
      "(17, 19)\n"
     ]
    }
   ],
   "source": [
    "exec(code)"
   ]
  },
  {
   "cell_type": "markdown",
   "metadata": {},
   "source": [
    "## Sequential Games\n",
    "\n",
    "Sequential games are a type of game where players take turns to make decisions. The decisions made by each player can be based on the decisions made by the previous players. Sequential games are often represented as trees, where the nodes represent decision points and the edges represent the possible decisions that can be made.\n",
    "\n",
    "We will be using this type of game as a structure for the LLM to generate games."
   ]
  },
  {
   "cell_type": "markdown",
   "metadata": {},
   "source": [
    "### Generating Features\n",
    "\n",
    "The first step in generating a sequential game is to generate the features that will be used to represent the game. These features will generated by the LLM to generate the game."
   ]
  },
  {
   "cell_type": "code",
   "execution_count": 23,
   "metadata": {},
   "outputs": [],
   "source": [
    "def generate_game(prompt):\n",
    "    prior = '''\n",
    "    Your job will be to look for a fun way to combine real-world objects to make a sequential game (game theory). Your response should be formatted as:\n",
    "\n",
    "    Representative Emoji: eg. 🎲\n",
    "\n",
    "    Game Title: eg. Dice Roll\n",
    "\n",
    "    Set-Up Instructions: eg.\n",
    "    1. Place the dice in the center of the table.\n",
    "    2. Each player takes turns rolling the dice.\n",
    "\n",
    "    Turn-Instructions: eg.\n",
    "    1. Player rolls the dice.\n",
    "    2. Player reads the number at the top of the dice.\n",
    "\n",
    "    Winning/Losing Condition: e.\n",
    "    1. The player who rolls the highest number wins.\n",
    "    2. The player who rolls the lowest number loses.\n",
    "\n",
    "    Winning/Losing Condition: eg.\n",
    "    1. The player who rolls the highest number wins.\n",
    "    2. The player who rolls the lowest number loses.\n",
    "\n",
    "    Ignored-Objects: eg.\n",
    "    1. Coin\n",
    "    2. Chess Board\n",
    "\n",
    "    -------------------\n",
    "\n",
    "    Your response should have NO ambiguity. You also do not need to use all objects (IGNORE IRRELEVANT SURFACES AND FURNITURE).\n",
    "    '''\n",
    "    response = prompt_llm(\n",
    "        prior=prior,\n",
    "        prompt=prompt,\n",
    "    )\n",
    "    return response"
   ]
  },
  {
   "cell_type": "markdown",
   "metadata": {},
   "source": [
    "### Eliminating Irrelevant Features\n",
    "\n",
    "For now, we will simply prompt the LLM to ignore objects that it thinks do not matter. In the future this can be done by a classifier."
   ]
  },
  {
   "cell_type": "code",
   "execution_count": 6,
   "metadata": {},
   "outputs": [
    {
     "name": "stdout",
     "output_type": "stream",
     "text": [
      "Representative Emoji: 🍨\n",
      "\n",
      "Game Title: Yogurt Pong\n",
      "\n",
      "Set-Up Instructions:\n",
      "1. Arrange the 5 yogurt cups in a small triangle (like bowling pins) on one end of the table.\n",
      "2. Each player stands at the opposite end of the table with a ping pong ball.\n",
      "3. The banana is placed beside the table as a marker for where players must stand while throwing.\n",
      "\n",
      "Turn-Instructions: \n",
      "1. Player 1 attempts to throw their ping pong ball into one of the yogurt cups.\n",
      "2. If the ball lands in a cup, the cup is removed from the table.\n",
      "3. Player 2 then takes their turn, following the same rules.\n",
      "4. Players take turns until all cups have been removed.\n",
      "\n",
      "Winning/Losing Condition: \n",
      "1. The player who removes the most cups wins.\n",
      "2. If both players remove an equal number of cups, the player who removed their cups in the least number of throws wins.\n",
      "\n",
      "Ignored-Objects: \n",
      "1. Sofa\n"
     ]
    }
   ],
   "source": [
    "objects = [\"yogurt cup\", \"ping pong ball\", \"banana\", \"table\", \"sofa\"]\n",
    "quantities = [5, 2, 1, 1, 1]\n",
    "prompt = ', '.join([f\"{quant} {obj}s\" if quant > 1 else obj for obj, quant in zip(objects, quantities)])\n",
    "game_response = generate_game(prompt)\n",
    "print(game_response)"
   ]
  },
  {
   "cell_type": "code",
   "execution_count": 7,
   "metadata": {},
   "outputs": [],
   "source": [
    "def numbered_list_to_array(text: str):\n",
    "    return [line[line.index('.') + 2:] for line in text.split('\\n') if line.strip() != \"\"]"
   ]
  },
  {
   "cell_type": "code",
   "execution_count": 8,
   "metadata": {},
   "outputs": [
    {
     "data": {
      "text/plain": [
       "{'Representative Emoji': '🍨',\n",
       " 'Game Title': 'Yogurt Pong',\n",
       " 'Set-Up Instructions': ['Arrange the 5 yogurt cups in a small triangle (like bowling pins) on one end of the table.',\n",
       "  'Each player stands at the opposite end of the table with a ping pong ball.',\n",
       "  'The banana is placed beside the table as a marker for where players must stand while throwing.'],\n",
       " 'Turn-Instructions': ['Player 1 attempts to throw their ping pong ball into one of the yogurt cups.',\n",
       "  'If the ball lands in a cup, the cup is removed from the table.',\n",
       "  'Player 2 then takes their turn, following the same rules.',\n",
       "  'Players take turns until all cups have been removed.'],\n",
       " 'Winning/Losing Condition': ['The player who removes the most cups wins.',\n",
       "  'If both players remove an equal number of cups, the player who removed their cups in the least number of throws wins.'],\n",
       " 'Ignored-Objects': ['Sofa']}"
      ]
     },
     "execution_count": 8,
     "metadata": {},
     "output_type": "execute_result"
    }
   ],
   "source": [
    "import regex as re\n",
    "structured_response = [line.split(':') for line in game_response.split(\"\\n\\n\")]\n",
    "# turn the response into a dictionary\n",
    "meta_game = {\n",
    "    key: numbered_list_to_array(value) if re.match(r'^\\s*\\d+\\.\\s+.+', value) else value.strip() \n",
    "    for key, value in structured_response\n",
    "}\n",
    "meta_game"
   ]
  },
  {
   "cell_type": "code",
   "execution_count": 9,
   "metadata": {},
   "outputs": [
    {
     "data": {
      "text/plain": [
       "['yogurt cup', 'ping pong ball', 'banana', 'table']"
      ]
     },
     "execution_count": 9,
     "metadata": {},
     "output_type": "execute_result"
    }
   ],
   "source": [
    "formatted_ignored_objects = [obj.lower() for obj in meta_game.get(\"Ignored-Objects\", [])]\n",
    "used_objects = [obj for obj in objects if obj not in formatted_ignored_objects]\n",
    "used_objects"
   ]
  },
  {
   "cell_type": "code",
   "execution_count": 10,
   "metadata": {},
   "outputs": [
    {
     "name": "stdout",
     "output_type": "stream",
     "text": [
      "1. Throw ping pong ball at yogurt cups, Payoff +1 for each cup hit\n",
      "2. Miss yogurt cups with ping pong ball, Payoff -1\n",
      "3. Move closer to the table by moving the banana marker, Payoff -2\n",
      "4. Move further from the table by moving the banana marker, Payoff +2\n",
      "5. Attempt to hit multiple yogurt cups with one throw, Payoff +2 for each additional cup hit\n",
      "6. Fail to hit multiple yogurt cups with one throw, Payoff -2 for each additional cup missed\n",
      "7. Knock over a yogurt cup without the ping pong ball landing in it, Payoff -3\n",
      "8. Successfully land the ping pong ball in a yogurt cup without knocking it over, Payoff +3\n",
      "9. Attempt to bounce the ping pong ball off the table into a yogurt cup, Payoff +4 if successful\n",
      "10. Fail to bounce the ping pong ball off the table into a yogurt cup, Payoff -4 if unsuccessful.\n"
     ]
    }
   ],
   "source": [
    "actions_payoffs_resp = prompt_llm(\n",
    "    \"You are building a sequential game in game theory. Answer with just the actions that a player can do on their turn and their payoffs in a numbered list. Answer ONLY with the numbered list in the form: 1. Action, Payoff (eg. +3)\",\n",
    "    f'''Here are the objects in the game: {used_objects}. MAKE SURE YOUR ACTIONS ARE MUTUALLY INDEPENDENT''',\n",
    "    contexts=[game_response],\n",
    "    temp=0.3\n",
    ")\n",
    "\n",
    "print(actions_payoffs_resp)"
   ]
  },
  {
   "cell_type": "code",
   "execution_count": 11,
   "metadata": {},
   "outputs": [],
   "source": [
    "actions_payoffs = [action_payoff.split(\", \") for action_payoff in numbered_list_to_array(actions_payoffs_resp)]\n",
    "actions = [action for action, _ in actions_payoffs]"
   ]
  },
  {
   "cell_type": "code",
   "execution_count": 12,
   "metadata": {},
   "outputs": [
    {
     "name": "stdout",
     "output_type": "stream",
     "text": [
      "\n",
      "def calculate_winner(actions, num_players):\n",
      "    scores = [0]*num_players\n",
      "    for i, action in enumerate(actions):\n",
      "        if action == 'hit':\n",
      "            scores[i%num_players] += 1\n",
      "        elif action == 'miss':\n",
      "            scores[i%num_players] -= 1\n",
      "        elif action == 'move closer':\n",
      "            scores[i%num_players] -= 2\n",
      "        elif action == 'move further':\n",
      "            scores[i%num_players] += 2\n",
      "        elif action == 'hit multiple':\n",
      "            scores[i%num_players] += 2\n",
      "        elif action == 'miss multiple':\n",
      "            scores[i%num_players] -= 2\n",
      "        elif action == 'knock over':\n",
      "            scores[i%num_players] -= 3\n",
      "        elif action == 'land without knock over':\n",
      "            scores[i%num_players] += 3\n",
      "        elif action == 'bounce hit':\n",
      "            scores[i%num_players] += 4\n",
      "        elif action == 'bounce miss':\n",
      "            scores[i%num_players] -= 4\n",
      "    return scores.index(max(scores)) + 1\n",
      "\n"
     ]
    }
   ],
   "source": [
    "game_code = generate_code(\n",
    "    f\"Write a Python function that takes as input an array of action strings and number of players and returns the winner.\",\n",
    "    contexts=[game_response, f\"Actions and Payoffs:\\n{actions_payoffs_resp}\"],\n",
    ")\n",
    "\n",
    "\n",
    "print(game_code)"
   ]
  },
  {
   "cell_type": "code",
   "execution_count": 13,
   "metadata": {},
   "outputs": [
    {
     "name": "stdout",
     "output_type": "stream",
     "text": [
      "calculate_winner\n"
     ]
    }
   ],
   "source": [
    "def extract_function_name(code):\n",
    "    return code.split('(')[0].split()[-1]\n",
    "\n",
    "run_game = extract_function_name(game_code)\n",
    "print(run_game)"
   ]
  },
  {
   "cell_type": "code",
   "execution_count": 14,
   "metadata": {},
   "outputs": [
    {
     "data": {
      "text/plain": [
       "['Miss yogurt cups with ping pong ball',\n",
       " 'Throw ping pong ball at yogurt cups',\n",
       " 'Miss yogurt cups with ping pong ball']"
      ]
     },
     "execution_count": 14,
     "metadata": {},
     "output_type": "execute_result"
    }
   ],
   "source": [
    "game_actions = [actions[1], actions[0], actions[1]]\n",
    "game_actions"
   ]
  },
  {
   "cell_type": "code",
   "execution_count": 15,
   "metadata": {},
   "outputs": [
    {
     "name": "stdout",
     "output_type": "stream",
     "text": [
      "1\n"
     ]
    }
   ],
   "source": [
    "exec(game_code)\n",
    "\n",
    "exec(f\"winner = {run_game}({game_actions}, 2)\")\n",
    "print(winner)"
   ]
  },
  {
   "cell_type": "markdown",
   "metadata": {},
   "source": [
    "## Game Generation\n",
    "\n",
    "With all the pieces in place, we can now make a function to generate a game given a set of objects."
   ]
  },
  {
   "cell_type": "code",
   "execution_count": 26,
   "metadata": {},
   "outputs": [],
   "source": [
    "def generate_game_function(objects: list[str], quantities: list[int]) -> str:\n",
    "    '''\n",
    "    @param objects: list of objects to be used in the game\n",
    "    @return: string representing the python function to run the game\n",
    "    '''\n",
    "    if len(objects) != len(quantities):\n",
    "        raise ValueError(\"The number of objects and quantities must be the same\")\n",
    "    prompt = ', '.join([f\"{quant} {obj}s\" if quant > 1 else obj for obj, quant in zip(objects, quantities)])\n",
    "    game_response = generate_game(prompt)\n",
    "    print(game_response)\n",
    "    structured_response = [line.split(':') for line in game_response.split(\"\\n\\n\")]\n",
    "    # turn the response into a dictionary\n",
    "    meta_game = {\n",
    "        key: numbered_list_to_array(value) if re.match(r'^\\s*\\d+\\.\\s+.+', value) else value.strip() \n",
    "        for key, value in structured_response\n",
    "    }\n",
    "    formatted_ignored_objects = [obj.lower() for obj in meta_game.get(\"Ignored-Objects\", [])]\n",
    "    used_objects = [obj for obj in objects if obj not in formatted_ignored_objects]\n",
    "    actions_payoffs_resp = prompt_llm(\n",
    "        \"You are building a sequential game in game theory. Answer with just the actions that a player can do on their turn and their payoffs in a numbered list. Answer ONLY with the numbered list in the form: 1. Action, Payoff (eg. +3)\",\n",
    "        f'''Here are the objects in the game: {used_objects}. MAKE SURE YOUR ACTIONS ARE MUTUALLY INDEPENDENT''',\n",
    "        contexts=[game_response],\n",
    "        temp=0.3\n",
    "    )\n",
    "    actions_payoffs = [action_payoff.split(\", \") for action_payoff in numbered_list_to_array(actions_payoffs_resp)]\n",
    "    actions = [action for action, _ in actions_payoffs]\n",
    "    game_code = generate_code(\n",
    "        f\"Write a Python function that takes as input an array of action strings and number of players and returns the winner.\",\n",
    "        contexts=[game_response, f\"Actions and Payoffs:\\n{actions_payoffs_resp}\"],\n",
    "    )\n",
    "    return game_code"
   ]
  },
  {
   "cell_type": "code",
   "execution_count": 27,
   "metadata": {},
   "outputs": [
    {
     "name": "stdout",
     "output_type": "stream",
     "text": [
      "Representative Emoji: 🥚\n",
      "\n",
      "Game Title: Egg Transfer\n",
      "\n",
      "Set-Up Instructions:\n",
      "1. Place the 3 baskets in a line, 5 feet apart from each other.\n",
      "2. Place the 12 eggs in the first basket.\n",
      "3. Each player positions themselves at the first basket.\n",
      "\n",
      "Turn-Instructions:\n",
      "1. On their turn, a player must use the charging cable to lift an egg from the first basket.\n",
      "2. The player must then walk to the second basket and place the egg in it without dropping it.\n",
      "3. If the player successfully places the egg in the second basket, they must then use the charging cable to transfer the egg from the second basket to the third basket.\n",
      "4. If a player drops an egg at any point, their turn ends.\n",
      "\n",
      "Winning/Losing Condition:\n",
      "1. The player who transfers the most eggs from the first basket to the third basket in a set time limit (e.g. 5 minutes) wins.\n",
      "2. The player who transfers the least number of eggs or breaks the most eggs loses.\n",
      "\n",
      "Ignored-Objects:\n",
      "1. Laptop\n",
      "2. Keyboard\n"
     ]
    },
    {
     "data": {
      "text/plain": [
       "'\\ndef find_winner(actions, num_players):\\n    scores = [0]*num_players\\n    current_player = 0\\n\\n    for action in actions:\\n        if action == \"Pick up egg with charging cable\":\\n            scores[current_player] += 1\\n        elif action == \"Walk to second basket without dropping egg\":\\n            scores[current_player] += 2\\n        elif action == \"Place egg in second basket\":\\n            scores[current_player] += 1\\n        elif action == \"Pick up egg from second basket with charging cable\":\\n            scores[current_player] += 1\\n        elif action == \"Walk to third basket without dropping egg\":\\n            scores[current_player] += 2\\n        elif action == \"Place egg in third basket\":\\n            scores[current_player] += 3\\n        elif action == \"Drop egg at any point\":\\n            scores[current_player] -= 2\\n\\n        current_player = (current_player + 1) % num_players\\n\\n    max_score = max(scores)\\n    winners = [i+1 for i, score in enumerate(scores) if score == max_score]\\n\\n    return winners\\n'"
      ]
     },
     "execution_count": 27,
     "metadata": {},
     "output_type": "execute_result"
    }
   ],
   "source": [
    "generate_game_function(objects=[\"charging cable\", \"eggs\", \"laptop\", \"basket\", \"keyboard\"], quantities=[1, 12, 1, 3, 1])"
   ]
  }
 ],
 "metadata": {
  "kernelspec": {
   "display_name": "base",
   "language": "python",
   "name": "python3"
  },
  "language_info": {
   "codemirror_mode": {
    "name": "ipython",
    "version": 3
   },
   "file_extension": ".py",
   "mimetype": "text/x-python",
   "name": "python",
   "nbconvert_exporter": "python",
   "pygments_lexer": "ipython3",
   "version": "3.9.12"
  }
 },
 "nbformat": 4,
 "nbformat_minor": 2
}
